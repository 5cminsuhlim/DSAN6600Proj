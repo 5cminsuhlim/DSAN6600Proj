{
 "cells": [
  {
   "cell_type": "code",
   "execution_count": 2,
   "metadata": {},
   "outputs": [],
   "source": [
    "from deeplake.core.vectorstore.deeplake_vectorstore import VectorStore\n",
    "import torch\n",
    "import time, os, shutil\n",
    "from torchvision import transforms, models, datasets\n",
    "from torchvision.models.segmentation import fcn_resnet50, FCN_ResNet50_Weights\n",
    "from torchvision.models.feature_extraction import create_feature_extractor\n",
    "from PIL import Image, ImageFilter"
   ]
  },
  {
   "cell_type": "code",
   "execution_count": 3,
   "metadata": {},
   "outputs": [],
   "source": [
    "\"\"\"\n",
    "Create ResNet34 model\n",
    "(COULD BE PART OF A CLASS)\n",
    "\"\"\" \n",
    "def resnet():\n",
    "    # Check if GPU is available\n",
    "    device = torch.device('cuda') if torch.cuda.is_available() else torch.device('cpu')\n",
    "\n",
    "    # Load the model\n",
    "    model = models.resnet34(pretrained=True)\n",
    "\n",
    "    # Create a feature extractor\n",
    "    return_nodes = {\n",
    "        'avgpool': 'embedding'\n",
    "    }\n",
    "    model = create_feature_extractor(model, return_nodes=return_nodes)\n",
    "\n",
    "    # Freeze the model\n",
    "    model.eval()\n",
    "    model.to(device)\n",
    "    return model"
   ]
  },
  {
   "cell_type": "code",
   "execution_count": 4,
   "metadata": {},
   "outputs": [
    {
     "name": "stderr",
     "output_type": "stream",
     "text": [
      "/home/landon/.local/lib/python3.10/site-packages/torchvision/models/_utils.py:208: UserWarning: The parameter 'pretrained' is deprecated since 0.13 and may be removed in the future, please use 'weights' instead.\n",
      "  warnings.warn(\n",
      "/home/landon/.local/lib/python3.10/site-packages/torchvision/models/_utils.py:223: UserWarning: Arguments other than a weight enum or `None` for 'weights' are deprecated since 0.13 and may be removed in the future. The current behavior is equivalent to passing `weights=ResNet34_Weights.IMAGENET1K_V1`. You can also use `weights=ResNet34_Weights.DEFAULT` to get the most up-to-date weights.\n",
      "  warnings.warn(msg)\n"
     ]
    }
   ],
   "source": [
    "model = resnet()\n",
    "device = torch.device('cuda') if torch.cuda.is_available() else torch.device('cpu')\n",
    "\n",
    "def embedding_function(images, model=model, device=device, batch_size = 500):\n",
    "    \"\"\"Creates a list of embeddings based on a list of image filenames. Images are processed in batches.\"\"\"\n",
    "    transform= transforms.Compose([\n",
    "        transforms.Resize((224,224)), \n",
    "        transforms.ToTensor(),\n",
    "        transforms.Lambda(lambda x: torch.cat([x, x, x], dim=0) if x.shape[0] == 1 else x),\n",
    "        transforms.Normalize([0.485, 0.456, 0.406], [0.229, 0.224, 0.225]),\n",
    "    ])\n",
    "\n",
    "    if isinstance(images, str):\n",
    "        images = [images]\n",
    "\n",
    "    # Proceess the embeddings in batches, but return everything as a single list\n",
    "    embeddings = []\n",
    "    for i in range(0, len(images), batch_size):\n",
    "        batch = torch.stack([transform(Image.open(item)) for item in images[i:i+batch_size]])\n",
    "        batch = batch.to(device)\n",
    "        with torch.no_grad():\n",
    "            embeddings+= model(batch)['embedding'][:,:,0,0].cpu().numpy().tolist()\n",
    "\n",
    "    return embeddings"
   ]
  },
  {
   "cell_type": "code",
   "execution_count": 5,
   "metadata": {},
   "outputs": [
    {
     "name": "stdout",
     "output_type": "stream",
     "text": [
      "Loading Model\n"
     ]
    },
    {
     "name": "stderr",
     "output_type": "stream",
     "text": [
      "/home/landon/.local/lib/python3.10/site-packages/torchvision/models/_utils.py:208: UserWarning: The parameter 'pretrained' is deprecated since 0.13 and may be removed in the future, please use 'weights' instead.\n",
      "  warnings.warn(\n",
      "/home/landon/.local/lib/python3.10/site-packages/torchvision/models/_utils.py:223: UserWarning: Arguments other than a weight enum or `None` for 'weights' are deprecated since 0.13 and may be removed in the future. The current behavior is equivalent to passing `weights=ResNet34_Weights.IMAGENET1K_V1`. You can also use `weights=ResNet34_Weights.DEFAULT` to get the most up-to-date weights.\n",
      "  warnings.warn(msg)\n"
     ]
    },
    {
     "name": "stdout",
     "output_type": "stream",
     "text": [
      "Model Loaded\n",
      "Creating Vector Stores\n"
     ]
    },
    {
     "name": "stderr",
     "output_type": "stream",
     "text": []
    },
    {
     "name": "stdout",
     "output_type": "stream",
     "text": [
      "Vector Stores Created\n",
      "Adding Images to Vector Stores\n",
      "Device:  cuda\n",
      "Subjectbox Images\n"
     ]
    },
    {
     "name": "stderr",
     "output_type": "stream",
     "text": [
      "Creating 19171 embeddings in 39 batches of size 500:: 100%|██████████| 39/39 [00:59<00:00,  1.53s/it]"
     ]
    },
    {
     "name": "stdout",
     "output_type": "stream",
     "text": [
      "Dataset(path='../data/vector_stores/subjectbox_vs', tensors=['image', 'embedding', 'filename', 'id'])\n",
      "\n",
      "  tensor      htype               shape              dtype  compression\n",
      "  -------    -------             -------            -------  ------- \n",
      "   image      image    (19171, 17:6079, 9:3880, 3)   uint8    jpeg   \n",
      " embedding  embedding         (19171, 512)          float32   None   \n",
      " filename     text             (19171, 1)             str     None   \n",
      "    id        text             (19171, 1)             str     None   \n",
      "Images Successfully Added to Vector Stores\n",
      "Time to Create Vector Stores:  60.77  seconds\n",
      "Average Time per Image:  0.0032  seconds\n",
      "Time for all images:  1.01  minutes\n"
     ]
    },
    {
     "name": "stderr",
     "output_type": "stream",
     "text": [
      "\n"
     ]
    }
   ],
   "source": [
    "def create_all_vector_stores(vector_store_path=\"../data/vector_stores\"):\n",
    "\n",
    "    start_time = time.time()\n",
    "\n",
    "    print(\"Loading Model\")\n",
    "    model = resnet()\n",
    "    print(\"Model Loaded\")\n",
    "\n",
    "    # make_vector_store_dir(vector_store_path)\n",
    "\n",
    "    print(\"Creating Vector Stores\")\n",
    "    # Path to the individual vector stores\n",
    "\n",
    "    # Check if Vector Stores Folder exists and delete it if they do\n",
    "    if os.path.exists(vector_store_path + \"/subjectbox_vs\"):\n",
    "        shutil.rmtree(vector_store_path + \"/subjectbox_vs\")\n",
    "\n",
    "    subjectbox_vs = VectorStore(\n",
    "        path=f\"{vector_store_path}/subjectbox_vs\",\n",
    "        tensor_params=[\n",
    "            {\"name\": \"image\", \"htype\": \"image\", \"sample_compression\": \"jpg\"},\n",
    "            {\"name\": \"embedding\", \"htype\": \"embedding\"},\n",
    "            {\"name\": \"filename\", \"htype\": \"text\"},\n",
    "        ],\n",
    "    )\n",
    "    print(\"Vector Stores Created\")\n",
    "\n",
    "    # Get the list of images\n",
    "    sb_images = [f\"../data/subjectbox/{item}\" for item in os.listdir(\"../data/subjectbox/\")]\n",
    "\n",
    "    print(\"Adding Images to Vector Stores\")\n",
    "\n",
    "    # Get device\n",
    "    device = torch.device(\"cuda\") if torch.cuda.is_available() else torch.device(\"cpu\")\n",
    "    print(\"Device: \", device)\n",
    "\n",
    "    # Add the images to the vector stores\n",
    "    print(\"Subjectbox Images\")\n",
    "    subjectbox_vs.add(\n",
    "        image=sb_images,\n",
    "        filename=sb_images,\n",
    "        embedding_function=embedding_function,\n",
    "        embedding_data=sb_images,\n",
    "    )\n",
    "\n",
    "    print(\"Images Successfully Added to Vector Stores\")\n",
    "\n",
    "    end_time = time.time()\n",
    "\n",
    "    print(\"Time to Create Vector Stores: \", round(end_time - start_time, 2), \" seconds\")\n",
    "    avg_time = (end_time - start_time) / len(os.listdir('../data/subjectbox/'))\n",
    "    print(\"Average Time per Image: \", round(avg_time, 4), \" seconds\")\n",
    "    print(\"Time for all images: \", round(avg_time * len(os.listdir('../data/subjectbox/')) / 60, 2), \" minutes\")\n",
    "\n",
    "    return None\n",
    "\n",
    "\n",
    "# Test the function\n",
    "create_all_vector_stores()"
   ]
  },
  {
   "cell_type": "code",
   "execution_count": null,
   "metadata": {},
   "outputs": [],
   "source": []
  }
 ],
 "metadata": {
  "kernelspec": {
   "display_name": "Python 3",
   "language": "python",
   "name": "python3"
  },
  "language_info": {
   "codemirror_mode": {
    "name": "ipython",
    "version": 3
   },
   "file_extension": ".py",
   "mimetype": "text/x-python",
   "name": "python",
   "nbconvert_exporter": "python",
   "pygments_lexer": "ipython3",
   "version": "3.10.12"
  }
 },
 "nbformat": 4,
 "nbformat_minor": 2
}
