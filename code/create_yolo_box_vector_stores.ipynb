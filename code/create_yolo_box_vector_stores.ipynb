{
 "cells": [
  {
   "cell_type": "code",
   "execution_count": 1,
   "metadata": {},
   "outputs": [
    {
     "name": "stderr",
     "output_type": "stream",
     "text": [
      "/home/npenoyer34/anaconda3/envs/dsan6600/lib/python3.10/site-packages/deeplake/util/check_latest_version.py:32: UserWarning: A newer version of deeplake (3.9.1) is available. It's recommended that you update to the latest version using `pip install -U deeplake`.\n",
      "  warnings.warn(\n"
     ]
    }
   ],
   "source": [
    "from deeplake.core.vectorstore.deeplake_vectorstore import VectorStore\n",
    "import torch\n",
    "import time, os, shutil\n",
    "from torchvision import transforms, models, datasets\n",
    "from torchvision.models.segmentation import fcn_resnet50, FCN_ResNet50_Weights\n",
    "from torchvision.models.feature_extraction import create_feature_extractor\n",
    "from PIL import Image, ImageFilter"
   ]
  },
  {
   "cell_type": "code",
   "execution_count": 2,
   "metadata": {},
   "outputs": [],
   "source": [
    "\"\"\"\n",
    "Create ResNet34 model\n",
    "(COULD BE PART OF A CLASS)\n",
    "\"\"\" \n",
    "def resnet():\n",
    "    # Check if GPU is available\n",
    "    device = torch.device('cuda') if torch.cuda.is_available() else torch.device('cpu')\n",
    "\n",
    "    # Load the model\n",
    "    model = models.resnet34(pretrained=True)\n",
    "\n",
    "    # Create a feature extractor\n",
    "    return_nodes = {\n",
    "        'avgpool': 'embedding'\n",
    "    }\n",
    "    model = create_feature_extractor(model, return_nodes=return_nodes)\n",
    "\n",
    "    # Freeze the model\n",
    "    model.eval()\n",
    "    model.to(device)\n",
    "    return model"
   ]
  },
  {
   "cell_type": "code",
   "execution_count": 3,
   "metadata": {},
   "outputs": [
    {
     "name": "stderr",
     "output_type": "stream",
     "text": [
      "/home/npenoyer34/anaconda3/envs/dsan6600/lib/python3.10/site-packages/torchvision/models/_utils.py:208: UserWarning: The parameter 'pretrained' is deprecated since 0.13 and may be removed in the future, please use 'weights' instead.\n",
      "  warnings.warn(\n",
      "/home/npenoyer34/anaconda3/envs/dsan6600/lib/python3.10/site-packages/torchvision/models/_utils.py:223: UserWarning: Arguments other than a weight enum or `None` for 'weights' are deprecated since 0.13 and may be removed in the future. The current behavior is equivalent to passing `weights=ResNet34_Weights.IMAGENET1K_V1`. You can also use `weights=ResNet34_Weights.DEFAULT` to get the most up-to-date weights.\n",
      "  warnings.warn(msg)\n",
      "/home/npenoyer34/anaconda3/envs/dsan6600/lib/python3.10/site-packages/torch/overrides.py:110: UserWarning: 'has_cuda' is deprecated, please use 'torch.backends.cuda.is_built()'\n",
      "  torch.has_cuda,\n",
      "/home/npenoyer34/anaconda3/envs/dsan6600/lib/python3.10/site-packages/torch/overrides.py:111: UserWarning: 'has_cudnn' is deprecated, please use 'torch.backends.cudnn.is_available()'\n",
      "  torch.has_cudnn,\n",
      "/home/npenoyer34/anaconda3/envs/dsan6600/lib/python3.10/site-packages/torch/overrides.py:117: UserWarning: 'has_mps' is deprecated, please use 'torch.backends.mps.is_built()'\n",
      "  torch.has_mps,\n",
      "/home/npenoyer34/anaconda3/envs/dsan6600/lib/python3.10/site-packages/torch/overrides.py:118: UserWarning: 'has_mkldnn' is deprecated, please use 'torch.backends.mkldnn.is_available()'\n",
      "  torch.has_mkldnn,\n"
     ]
    }
   ],
   "source": [
    "model = resnet()\n",
    "device = torch.device('cuda') if torch.cuda.is_available() else torch.device('cpu')\n",
    "\n",
    "def embedding_function(images, model=model, device=device, batch_size = 500):\n",
    "    \"\"\"Creates a list of embeddings based on a list of image filenames. Images are processed in batches.\"\"\"\n",
    "    transform= transforms.Compose([\n",
    "        transforms.Resize((224,224)), \n",
    "        transforms.ToTensor(),\n",
    "        transforms.Lambda(lambda x: torch.cat([x, x, x], dim=0) if x.shape[0] == 1 else x),\n",
    "        transforms.Normalize([0.485, 0.456, 0.406], [0.229, 0.224, 0.225]),\n",
    "    ])\n",
    "\n",
    "    if isinstance(images, str):\n",
    "        images = [images]\n",
    "\n",
    "    # Proceess the embeddings in batches, but return everything as a single list\n",
    "    embeddings = []\n",
    "    for i in range(0, len(images), batch_size):\n",
    "        batch = torch.stack([transform(Image.open(item)) for item in images[i:i+batch_size]])\n",
    "        batch = batch.to(device)\n",
    "        with torch.no_grad():\n",
    "            embeddings+= model(batch)['embedding'][:,:,0,0].cpu().numpy().tolist()\n",
    "\n",
    "    return embeddings"
   ]
  },
  {
   "cell_type": "code",
   "execution_count": null,
   "metadata": {},
   "outputs": [],
   "source": [
    "def create_all_vector_stores(vector_store_path=\"../data/vector_stores\"):\n",
    "\n",
    "    start_time = time.time()\n",
    "\n",
    "    print(\"Loading Model\")\n",
    "    model = resnet()\n",
    "    print(\"Model Loaded\")\n",
    "\n",
    "    # make_vector_store_dir(vector_store_path)\n",
    "\n",
    "    print(\"Creating Vector Stores\")\n",
    "    # Path to the individual vector stores\n",
    "\n",
    "    # Check if Vector Stores Folder exists and delete it if they do\n",
    "    if os.path.exists(vector_store_path + \"/boundingbox_vs\"):\n",
    "        shutil.rmtree(vector_store_path + \"/boundingbox_vs\")\n",
    "\n",
    "    boundingbox_vs = VectorStore(\n",
    "        path=f\"{vector_store_path}/boundingbox_vs\",\n",
    "        tensor_params=[\n",
    "            {\"name\": \"image\", \"htype\": \"image\", \"sample_compression\": \"jpg\"},\n",
    "            {\"name\": \"embedding\", \"htype\": \"embedding\"},\n",
    "            {\"name\": \"filename\", \"htype\": \"text\"},\n",
    "        ],\n",
    "    )\n",
    "    print(\"Vector Stores Created\")\n",
    "\n",
    "    # Get the list of images\n",
    "    sb_images = [f\"../data/boundingbox/{item}\" for item in os.listdir(\"../data/boundingbox/\")]\n",
    "\n",
    "    print(\"Adding Images to Vector Stores\")\n",
    "\n",
    "    # Get device\n",
    "    device = torch.device(\"cuda\") if torch.cuda.is_available() else torch.device(\"cpu\")\n",
    "    print(\"Device: \", device)\n",
    "\n",
    "    # Add the images to the vector stores\n",
    "    print(\"Boundingbox Images\")\n",
    "    boundingbox_vs.add(\n",
    "        image=sb_images,\n",
    "        filename=sb_images,\n",
    "        embedding_function=embedding_function,\n",
    "        embedding_data=sb_images,\n",
    "    )\n",
    "\n",
    "    print(\"Images Successfully Added to Vector Stores\")\n",
    "\n",
    "    end_time = time.time()\n",
    "\n",
    "    print(\"Time to Create Vector Stores: \", round(end_time - start_time, 2), \" seconds\")\n",
    "    avg_time = (end_time - start_time) / len(os.listdir('../data/boundingbox/'))\n",
    "    print(\"Average Time per Image: \", round(avg_time, 4), \" seconds\")\n",
    "    print(\"Time for all images: \", round(avg_time * len(os.listdir('../data/boundingbox/')) / 60, 2), \" minutes\")\n",
    "\n",
    "    return None\n",
    "\n",
    "\n",
    "# Test the function\n",
    "create_all_vector_stores()"
   ]
  },
  {
   "cell_type": "code",
   "execution_count": null,
   "metadata": {},
   "outputs": [],
   "source": []
  }
 ],
 "metadata": {
  "kernelspec": {
   "display_name": "dsan6600",
   "language": "python",
   "name": "python3"
  },
  "language_info": {
   "codemirror_mode": {
    "name": "ipython",
    "version": 3
   },
   "file_extension": ".py",
   "mimetype": "text/x-python",
   "name": "python",
   "nbconvert_exporter": "python",
   "pygments_lexer": "ipython3",
   "version": "3.10.13"
  }
 },
 "nbformat": 4,
 "nbformat_minor": 2
}
