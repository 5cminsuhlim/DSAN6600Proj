{
  "cells": [
    {
      "cell_type": "code",
      "execution_count": 4,
      "metadata": {
        "colab": {
          "base_uri": "https://localhost:8080/"
        },
        "id": "4REButZRtyxS",
        "outputId": "544e076e-6db3-4846-8e2a-90589eb64617"
      },
      "outputs": [
        {
          "name": "stdout",
          "output_type": "stream",
          "text": [
            "Drive already mounted at /content/drive; to attempt to forcibly remount, call drive.mount(\"/content/drive\", force_remount=True).\n",
            "/content/drive/MyDrive/Grad/DSAN6600/proj\n"
          ]
        }
      ],
      "source": [
        "from google.colab import drive\n",
        "drive.mount('/content/drive')\n",
        "\n",
        "%cd '/content/drive/MyDrive/Grad/DSAN6600/proj/'"
      ]
    },
    {
      "cell_type": "code",
      "execution_count": 22,
      "metadata": {
        "id": "CJz9OhXPs4hu"
      },
      "outputs": [],
      "source": [
        "import os\n",
        "import glob\n",
        "import torch\n",
        "import numpy as np\n",
        "import pandas as pd\n",
        "from PIL import Image\n",
        "from IPython.display import Image, display"
      ]
    },
    {
      "cell_type": "markdown",
      "metadata": {
        "id": "V4VT00Z3tJbx"
      },
      "source": [
        "# Load Data + YOLO"
      ]
    },
    {
      "cell_type": "code",
      "execution_count": 39,
      "metadata": {
        "colab": {
          "base_uri": "https://localhost:8080/"
        },
        "id": "VTPGkb77obj-",
        "outputId": "f3bff1c5-8df4-4fd8-aa8e-108b951db619"
      },
      "outputs": [
        {
          "name": "stderr",
          "output_type": "stream",
          "text": [
            "Using cache found in /root/.cache/torch/hub/ultralytics_yolov5_master\n",
            "YOLOv5 🚀 2024-4-7 Python-3.10.12 torch-2.2.1+cu121 CPU\n",
            "\n",
            "Fusing layers... \n",
            "YOLOv5s summary: 213 layers, 7225885 parameters, 0 gradients, 16.4 GFLOPs\n",
            "Adding AutoShape... \n"
          ]
        }
      ],
      "source": [
        "raw_imgs_path = 'data/raw'\n",
        "all_imgs = glob.glob(os.path.join(raw_imgs_path, '*.jpg'))\n",
        "\n",
        "### DOWNSAMPLED FOR TESTING ###\n",
        "# sample 10\n",
        "# sampled_imgs = all_imgs[:10]\n",
        "\n",
        "# # load imgs\n",
        "# imgs = [Image.open(img_path) for img_path in sampled_imgs]\n",
        "\n",
        "### THE REAL DEAL ###\n",
        "# load imgs\n",
        "imgs = [Image.open(img_path) for img_path in all_imgs]\n",
        "\n",
        "# load yolo\n",
        "model = torch.hub.load('ultralytics/yolov5', 'yolov5s', pretrained=True)"
      ]
    },
    {
      "cell_type": "code",
      "execution_count": null,
      "metadata": {
        "id": "JM7hydvJpAhV"
      },
      "outputs": [],
      "source": [
        "results = model(imgs)\n",
        "\n",
        "# sanity check\n",
        "# results.print()\n",
        "dets = results.pandas().xyxy\n",
        "\n",
        "# only people w/ at least 50% confidence\n",
        "people_det = [det[(det['class'] == 0) & (det['confidence'] >= 0.5)] for det in dets]"
      ]
    },
    {
      "cell_type": "code",
      "execution_count": null,
      "metadata": {
        "id": "Wp6MUQkayQ3f"
      },
      "outputs": [],
      "source": [
        "def crop_and_save(img_paths, detections_list, verbose=False):\n",
        "  out_path = 'data/subjectbox'\n",
        "  os.makedirs(out_path, exist_ok=True)\n",
        "\n",
        "  for img_path, detections in zip(img_paths, detections_list):\n",
        "    # load img\n",
        "    img = Image.open(img_path)\n",
        "\n",
        "    for index, row in detections.iterrows():\n",
        "      # extract bounding box coords; use ints for saving img name\n",
        "      xmin, ymin, xmax, ymax = int(row['xmin']), int(row['ymin']), int(row['xmax']), int(row['ymax'])\n",
        "\n",
        "      # crop image around bounding box\n",
        "      cropped_img = img.crop((xmin, ymin, xmax, ymax))\n",
        "\n",
        "      # get image name; remove extension\n",
        "      img_name = os.path.basename(img_path)\n",
        "      img_name_no_ext = os.path.splitext(img_name)[0]\n",
        "\n",
        "      # create new image name w/ bounding box coords\n",
        "      new_img_name = f\"{img_name_no_ext}_subject_box_{xmin}_{ymin}_{xmax}_{ymax}.jpg\"\n",
        "\n",
        "      # save cropped img\n",
        "      save_path = os.path.join(out_path, new_img_name)\n",
        "      cropped_img.save(save_path)\n",
        "\n",
        "      if verbose:\n",
        "        print(f\"Saved: {save_path}\")"
      ]
    },
    {
      "cell_type": "code",
      "execution_count": null,
      "metadata": {
        "id": "rFJ4pQQnuCEX"
      },
      "outputs": [],
      "source": [
        "### DOWNSAMPLED FOR TESTING ###\n",
        "# crop_and_save(sampled_imgs, people_det, verbose=True)\n",
        "\n",
        "### THE REAL DEAL ###\n",
        "crop_and_save(all_imgs, people_det, verbose=False)"
      ]
    }
  ],
  "metadata": {
    "colab": {
      "provenance": []
    },
    "kernelspec": {
      "display_name": "dsan6600",
      "language": "python",
      "name": "python3"
    },
    "language_info": {
      "codemirror_mode": {
        "name": "ipython",
        "version": 3
      },
      "file_extension": ".py",
      "mimetype": "text/x-python",
      "name": "python",
      "nbconvert_exporter": "python",
      "pygments_lexer": "ipython3",
      "version": "3.10.0"
    }
  },
  "nbformat": 4,
  "nbformat_minor": 0
}
